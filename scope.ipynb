{
 "cells": [
  {
   "cell_type": "markdown",
   "metadata": {},
   "source": [
    "# ローカル変数"
   ]
  },
  {
   "cell_type": "code",
   "execution_count": 1,
   "metadata": {},
   "outputs": [
    {
     "name": "stdout",
     "output_type": "stream",
     "text": [
      "global\n",
      "In method: local\n",
      "global\n"
     ]
    }
   ],
   "source": [
    "str = 'global'\n",
    "\n",
    "def method():\n",
    "    str = 'local'\n",
    "    print('In method:', str)\n",
    "\n",
    "print(str)\n",
    "method()\n",
    "print(str)"
   ]
  },
  {
   "cell_type": "markdown",
   "metadata": {},
   "source": [
    "# グローバル変数"
   ]
  },
  {
   "cell_type": "code",
   "execution_count": 2,
   "metadata": {},
   "outputs": [
    {
     "name": "stdout",
     "output_type": "stream",
     "text": [
      "global\n",
      "In method: global\n",
      "global\n"
     ]
    }
   ],
   "source": [
    "str = 'global'\n",
    "\n",
    "def method():\n",
    "    print('In method:', str)\n",
    "\n",
    "print(str)\n",
    "method()\n",
    "print(str)"
   ]
  },
  {
   "cell_type": "markdown",
   "metadata": {},
   "source": [
    "# 関数内からグローバル変数にアクセス"
   ]
  },
  {
   "cell_type": "code",
   "execution_count": 3,
   "metadata": {},
   "outputs": [
    {
     "name": "stdout",
     "output_type": "stream",
     "text": [
      "global\n",
      "In method: local\n",
      "local\n"
     ]
    }
   ],
   "source": [
    "str = 'global'\n",
    "\n",
    "def method():\n",
    "    global str\n",
    "    str = 'local'\n",
    "    print('In method:', str)\n",
    "\n",
    "print(str)\n",
    "method()\n",
    "print(str)"
   ]
  },
  {
   "cell_type": "markdown",
   "metadata": {},
   "source": [
    "# 関数のネスト"
   ]
  },
  {
   "cell_type": "code",
   "execution_count": 4,
   "metadata": {},
   "outputs": [
    {
     "name": "stdout",
     "output_type": "stream",
     "text": [
      "global\n",
      "In outer: outer\n",
      "In inner: inner\n",
      "In outer: outer\n",
      "global\n"
     ]
    }
   ],
   "source": [
    "# nonlocal未使用の場合\n",
    "str = 'global'\n",
    "\n",
    "def outer():\n",
    "    # outer()のローカル変数\n",
    "    str = 'outer'\n",
    "    \n",
    "    def inner():\n",
    "        # inner()のローカル変数\n",
    "        str = 'inner'\n",
    "        print('In inner:', str)\n",
    "    \n",
    "    print('In outer:', str)\n",
    "    inner()\n",
    "    print('In outer:', str)\n",
    "\n",
    "print(str)\n",
    "outer()\n",
    "print(str)"
   ]
  },
  {
   "cell_type": "code",
   "execution_count": 5,
   "metadata": {},
   "outputs": [
    {
     "name": "stdout",
     "output_type": "stream",
     "text": [
      "global\n",
      "In outer: outer\n",
      "In inner: inner\n",
      "In outer: inner\n",
      "global\n"
     ]
    }
   ],
   "source": [
    "# nonlocalを使用\n",
    "str = 'global'\n",
    "\n",
    "def outer():\n",
    "    # outer()のローカル変数\n",
    "    str = 'outer'\n",
    "    \n",
    "    def inner():\n",
    "        # outer()のローカル変数\n",
    "        nonlocal str\n",
    "        str = 'inner'\n",
    "        print('In inner:', str)\n",
    "    \n",
    "    print('In outer:', str)\n",
    "    inner()\n",
    "    # nonlocalにより、inner()の外のstrも更新される\n",
    "    print('In outer:', str)\n",
    "\n",
    "print(str)\n",
    "outer()\n",
    "print(str)"
   ]
  },
  {
   "cell_type": "code",
   "execution_count": 6,
   "metadata": {},
   "outputs": [
    {
     "name": "stdout",
     "output_type": "stream",
     "text": [
      "global\n",
      "In outer: outer\n",
      "In inner: inner\n",
      "In outer: outer\n",
      "inner\n"
     ]
    }
   ],
   "source": [
    "# globalを使用\n",
    "str = 'global'\n",
    "\n",
    "def outer():\n",
    "    # outer()のローカル変数\n",
    "    str = 'outer'\n",
    "    \n",
    "    def inner():\n",
    "        # グローバル変数\n",
    "        global str\n",
    "        str = 'inner'\n",
    "        print('In inner:', str)\n",
    "    \n",
    "    print('In outer:', str)\n",
    "    inner()\n",
    "    # inner()ではグローバル変数のstrを更新しているので、\n",
    "    # outer()のローカル変数は更新されない\n",
    "    print('In outer:', str)\n",
    "\n",
    "print(str)\n",
    "outer()\n",
    "print(str)"
   ]
  },
  {
   "cell_type": "markdown",
   "metadata": {},
   "source": [
    "# 9.2.1. スコープと名前空間の例"
   ]
  },
  {
   "cell_type": "code",
   "execution_count": 7,
   "metadata": {},
   "outputs": [
    {
     "name": "stdout",
     "output_type": "stream",
     "text": [
      "After local assignment: test spam\n",
      "After nonlocal assignment: nonlocal spam\n",
      "After global assignment: nonlocal spam\n",
      "In global scope: global spam\n"
     ]
    }
   ],
   "source": [
    "def scope_test():\n",
    "    def do_local():\n",
    "        # ローカル変数のため、何も更新しない\n",
    "        spam = \"local spam\"  # (1)\n",
    "\n",
    "    def do_nonlocal():\n",
    "        # (4)のspamを更新する\n",
    "        nonlocal spam\n",
    "        spam = \"nonlocal spam\"  # (2)\n",
    "\n",
    "    def do_global():\n",
    "        # 新しいグローバル変数spamを作成する（(5)に影響する）\n",
    "        # グローバル変数のため、(4)は更新しない\n",
    "        global spam\n",
    "        spam = \"global spam\"  # (3)\n",
    "\n",
    "    spam = \"test spam\"  # (4)\n",
    "    do_local()\n",
    "    print(\"After local assignment:\", spam)\n",
    "    do_nonlocal()\n",
    "    print(\"After nonlocal assignment:\", spam)\n",
    "    do_global()\n",
    "    print(\"After global assignment:\", spam)\n",
    "\n",
    "scope_test()\n",
    "print(\"In global scope:\", spam)  # (5)"
   ]
  },
  {
   "cell_type": "code",
   "execution_count": null,
   "metadata": {},
   "outputs": [],
   "source": []
  }
 ],
 "metadata": {
  "kernelspec": {
   "display_name": "Python 3",
   "language": "python",
   "name": "python3"
  },
  "language_info": {
   "codemirror_mode": {
    "name": "ipython",
    "version": 3
   },
   "file_extension": ".py",
   "mimetype": "text/x-python",
   "name": "python",
   "nbconvert_exporter": "python",
   "pygments_lexer": "ipython3",
   "version": "3.6.5"
  }
 },
 "nbformat": 4,
 "nbformat_minor": 2
}
